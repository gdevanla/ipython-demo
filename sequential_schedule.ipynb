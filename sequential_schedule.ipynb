{
 "metadata": {
  "name": "",
  "signature": "sha256:fb16c33eb7e1d7220844c6506bd1ec970cb2247c86fe9429a643b95ea722c400"
 },
 "nbformat": 3,
 "nbformat_minor": 0,
 "worksheets": [
  {
   "cells": [
    {
     "cell_type": "heading",
     "level": 1,
     "metadata": {},
     "source": [
      "Data Structures"
     ]
    },
    {
     "cell_type": "code",
     "collapsed": false,
     "input": [
      "#Given say 3 simulatations 1,2,3,4 with following dependencies  1 and 2 are independent, 3 should follow (1,2), 4 should follow (2,3)"
     ],
     "language": "python",
     "metadata": {},
     "outputs": [],
     "prompt_number": 20
    },
    {
     "cell_type": "code",
     "collapsed": false,
     "input": [
      "def sim_func(id):\n",
      "    print 'Running job with id =', id\n",
      "\n",
      "\n",
      "# action and params are just for having a sample simulation\n",
      "user_workflow =  { 1 : { 'action' : sim_func, 'param': 1, 'depends' : {}},\n",
      "                       2 : { 'action' : sim_func, 'param': 2, 'depends' : {}},\n",
      "                       3 : { 'action' : sim_func, 'param': 3, 'depends' : {1,2}},\n",
      "                       4:  { 'action' : sim_func, 'param': 4,  'depends' : {3,2}}}\n"
     ],
     "language": "python",
     "metadata": {},
     "outputs": [],
     "prompt_number": 21
    },
    {
     "cell_type": "code",
     "collapsed": false,
     "input": [
      "#Now lets print a reverse dependency graph, to help us with constant lookup\n",
      "#when we update the children as parent jobs are completed.\n",
      "\n",
      "from collections import defaultdict\n",
      "\n",
      "def reverse_dependencies(workflow):\n",
      "    d = defaultdict(set)\n",
      "    for k, v in workflow.iteritems():\n",
      "        if v['depends']:\n",
      "            for c in v['depends']:\n",
      "                d[c] = d[c] | {k}\n",
      "    return d\n",
      "\n",
      "print reverse_dependencies(user_workflow)\n",
      "\n"
     ],
     "language": "python",
     "metadata": {},
     "outputs": [
      {
       "output_type": "stream",
       "stream": "stdout",
       "text": [
        "defaultdict(<type 'set'>, {1: set([3]), 2: set([3, 4]), 3: set([4])})\n"
       ]
      }
     ],
     "prompt_number": 22
    },
    {
     "cell_type": "code",
     "collapsed": false,
     "input": [
      "\"\"\"This method does the following\n",
      "  a. Enqueue the nodes that do not have any dependencies\n",
      "  b. Loop around the queue executing each job.\n",
      "      i. As the job is completed, remove its id from the workflow instance\n",
      "      ii. If all dependencies for a job is removed, that job is subsequently enqueued\n",
      "\"\"\"\n",
      "from collections import deque\n",
      "def run_workflow(workflow):\n",
      "\n",
      "    d = deque()\n",
      "    #initially queue up all jobs that do not have any dependencies\n",
      "    d = deque([k for k, v in workflow.iteritems() if not v['depends']])\n",
      "\n",
      "    #obtain a reverse graph of dependencies. This helps in constant\n",
      "    #lookup of child nodes once the parent job is completed.\n",
      "    rev_dep = reverse_dependencies(workflow)\n",
      "\n",
      "    #this loop runs jobs sequential but respecting the topological\n",
      "    #dependencies\n",
      "    while (d):\n",
      "        k = d.pop()\n",
      "        job_params = workflow[k]\n",
      "        job_params['action'](job_params['param'])\n",
      "\n",
      "        children = rev_dep[k]\n",
      "        for c in children:\n",
      "            workflow[c]['depends'] = workflow[c]['depends'] - {k}\n",
      "            if not workflow[c]['depends']: #no more parents to wait for\n",
      "                d.append(c)\n",
      "                \n",
      "                \n",
      "run_workflow(user_workflow)"
     ],
     "language": "python",
     "metadata": {},
     "outputs": [
      {
       "output_type": "stream",
       "stream": "stdout",
       "text": [
        "Running job with id = 2\n",
        "Running job with id = 1\n",
        "Running job with id = 3\n",
        "Running job with id = 4\n"
       ]
      }
     ],
     "prompt_number": 23
    },
    {
     "cell_type": "code",
     "collapsed": false,
     "input": [],
     "language": "python",
     "metadata": {},
     "outputs": [],
     "prompt_number": 0
    },
    {
     "cell_type": "code",
     "collapsed": false,
     "input": [],
     "language": "python",
     "metadata": {},
     "outputs": []
    }
   ],
   "metadata": {}
  }
 ]
}